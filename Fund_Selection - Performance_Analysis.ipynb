{
 "cells": [
  {
   "cell_type": "code",
   "execution_count": null,
   "metadata": {},
   "outputs": [],
   "source": [
    "import pandas as pd\n",
    "import numpy as np\n",
    "from IPython.display import display, HTML\n",
    "import pyodbc\n",
    "from datetime import datetime\n",
    "import matplotlib.pyplot as plt\n",
    "from numpy.lib.stride_tricks import as_strided\n",
    "%matplotlib inline\n",
    "import gc\n",
    "import scipy\n",
    "from scipy import stats\n",
    "import os\n",
    "from mpl_toolkits.mplot3d import Axes3D  # noqa: F401 unused import\n",
    "\n",
    "import matplotlib.pyplot as plt\n",
    "from matplotlib import cm\n",
    "from matplotlib.ticker import LinearLocator, FormatStrFormatter\n",
    "import numpy as np\n"
   ]
  },
  {
   "cell_type": "code",
   "execution_count": null,
   "metadata": {},
   "outputs": [],
   "source": [
    "def return_mdd_3dplot(inter_strategy,factor,time_params_list,max_n_fund_list):\n",
    "    all_return_list = []\n",
    "    all_mdd_list    = []\n",
    "    for i in range(len(time_params_list)):\n",
    "        return_list = []\n",
    "        mdd_list    = []\n",
    "        for j in range(len(max_n_fund_list)):\n",
    "            time_param = time_params_list[i]\n",
    "            max_n_fund = max_n_fund_list[j]\n",
    "            file_name = 'inter_{}_intra_{}'.format(inter_strategy,factor )\n",
    "            strategy_name = file_name+'_{}_{}'.format(time_param,max_n_fund )\n",
    "            #print('strategy name :{}'.format(strategy_name))\n",
    "            df_result = pd.read_csv('F:/DataScienceTeam/基金篩選-量化部門/result/{}/result_{}.csv'.format(file_name,strategy_name))\n",
    "            #print(df_result[strategy_name][0])\n",
    "            return_list += [df_result[strategy_name][0]]\n",
    "            mdd_list    += [df_result[strategy_name][5]]\n",
    "        all_return_list.append(return_list)\n",
    "        all_mdd_list.append(mdd_list)\n",
    "    df_return = pd.DataFrame(np.array(all_return_list).T)\n",
    "    df_return.columns = time_params_list\n",
    "    df_return.index   = max_n_fund_list \n",
    "    print('-'*100)\n",
    "    print('total return')\n",
    "    print(df_return)\n",
    "    df_mdd = pd.DataFrame(np.array(all_mdd_list).T)\n",
    "    df_mdd.columns = time_params_list\n",
    "    df_mdd.index   = max_n_fund_list \n",
    "    print('-'*100)\n",
    "    print('mdd')\n",
    "    print(df_mdd)\n",
    "    ########################################################################################################################\n",
    "    time_params = np.array(time_params_list)\n",
    "    max_n_fund  = np.array(max_n_fund_list)\n",
    "    time_params,max_n_fund = np.meshgrid(time_params, max_n_fund)\n",
    "\n",
    "    X = time_params\n",
    "    Y = max_n_fund\n",
    "    Z = np.array(all_return_list).T\n",
    "\n",
    "\n",
    "    # Plot the surface.\n",
    "    fig = plt.figure(figsize=(20,10))\n",
    "    ax = fig.gca(projection='3d')\n",
    "\n",
    "    surf = ax.plot_surface(X, Y, Z, cmap=cm.coolwarm)\n",
    "\n",
    "    cset = ax.contourf(X, Y, Z, zdir='z', offset=Z.min()-0.1, cmap=cm.coolwarm)\n",
    "    #cset = ax.contour(X, Y, Z, zdir='x', offset=X.min(), cmap=cm.coolwarm)\n",
    "    #cset = ax.contour(X, Y, Z, zdir='y', offset=Y.max(), cmap=cm.coolwarm)\n",
    "    # Customize the z axis.\n",
    "    ax.zaxis.set_major_locator(LinearLocator(10))\n",
    "    ax.zaxis.set_major_formatter(FormatStrFormatter('%.02f'))\n",
    "    # Add a color bar which maps values to colors.\n",
    "\n",
    "    fig.colorbar(surf, shrink=0.5, aspect=5)\n",
    "    plt.title(file_name+'_total_return_plot')\n",
    "    plt.grid()\n",
    "    plt.show()\n",
    "    ########################################################################################################################\n",
    "    time_params = np.array(time_params_list)\n",
    "    max_n_fund  = np.array(max_n_fund_list)\n",
    "    time_params,max_n_fund = np.meshgrid(time_params, max_n_fund)\n",
    "\n",
    "    X = time_params\n",
    "    Y = max_n_fund\n",
    "    Z = -np.array(all_mdd_list).T\n",
    "\n",
    "\n",
    "    # Plot the surface.\n",
    "    fig = plt.figure(figsize=(20,10))\n",
    "    ax = fig.gca(projection='3d')\n",
    "\n",
    "    surf = ax.plot_surface(X, Y, Z, cmap=cm.coolwarm)\n",
    "    cset = ax.contourf(X, Y, Z, zdir='z', offset=Z.min()-0.005, cmap=cm.coolwarm)\n",
    "    #cset = ax.contour(X, Y, Z, zdir='x', offset=X.min(), cmap=cm.coolwarm)\n",
    "    #cset = ax.contour(X, Y, Z, zdir='y', offset=Y.max(), cmap=cm.coolwarm)\n",
    "    # Customize the z axis.\n",
    "    ax.zaxis.set_major_locator(LinearLocator(10))\n",
    "    ax.zaxis.set_major_formatter(FormatStrFormatter('%.02f'))\n",
    "    # Add a color bar which maps values to colors.\n",
    "\n",
    "    fig.colorbar(surf, shrink=0.5, aspect=5)\n",
    "    plt.title(file_name+'_mdd_plot')\n",
    "    plt.grid()\n",
    "    plt.show()    "
   ]
  },
  {
   "cell_type": "markdown",
   "metadata": {},
   "source": [
    "# 一、組間極大化夏普上限1 - 組內d日aer最大n檔"
   ]
  },
  {
   "cell_type": "code",
   "execution_count": null,
   "metadata": {
    "scrolled": false
   },
   "outputs": [],
   "source": [
    "inter_strategy = 'maxsharpe1'\n",
    "factor_list = ['aer_zero','aer_rf','aer_c','aer_b']\n",
    "time_params_list   = [ 20,60,120,240,500,750 ]\n",
    "max_n_fund_list    = [ 1,2,3,4,5 ]\n",
    "for k in range(len(factor_list)):\n",
    "    factor = factor_list[k]\n",
    "    return_mdd_3dplot(inter_strategy,factor,time_params_list,max_n_fund_list)"
   ]
  },
  {
   "cell_type": "code",
   "execution_count": null,
   "metadata": {
    "scrolled": true
   },
   "outputs": [],
   "source": [
    "inter_strategy = 'maxsharpe1'\n",
    "factor_list = ['aer_zero','aer_rf','aer_c','aer_b']\n",
    "time_params_list   = [ 20,60,120,240,500,750 ]\n",
    "max_n_fund_list    = [ 1,2,3,4,5 ]\n",
    "\n",
    "\n",
    "for k in range(len(factor_list)):\n",
    "    factor = factor_list[k]\n",
    "\n",
    "    for i in range(len(time_params_list)):\n",
    "\n",
    "        for j in range(len(max_n_fund_list)):\n",
    "            time_param = time_params_list[i]\n",
    "            max_n_fund = max_n_fund_list[j]\n",
    "            file_name = 'inter_{}_intra_{}'.format(inter_strategy,factor )\n",
    "            strategy_name = file_name+'_{}_{}'.format(time_param,max_n_fund )\n",
    "            #print('strategy name :{}'.format(strategy_name))\n",
    "            df_result = pd.read_csv('F:/DataScienceTeam/基金篩選-量化部門/result/{}/result_{}.csv'.format(file_name,strategy_name))\n",
    "            #print(df_result[strategy_name][0])\n",
    "            if df_result[strategy_name][0] >=8.5:\n",
    "                print('out_perform_strategy : {}'.format(strategy_name))\n",
    "                print('total_return : {}'.format(df_result[strategy_name][0]))"
   ]
  },
  {
   "cell_type": "markdown",
   "metadata": {},
   "source": [
    "# 二、組間極大化夏普上限1 - 組內d日mrar最大n檔"
   ]
  },
  {
   "cell_type": "code",
   "execution_count": null,
   "metadata": {
    "scrolled": true
   },
   "outputs": [],
   "source": [
    "inter_strategy = 'maxsharpe1'\n",
    "factor_list = ['mrar_zero','mrar_rf','mrar_c','mrar_b']\n",
    "time_params_list   = [ 20,60,120,240,500,750 ]\n",
    "max_n_fund_list    = [ 1,2,3,4,5 ]\n",
    "for k in range(len(factor_list)):\n",
    "    factor = factor_list[k]\n",
    "    return_mdd_3dplot(inter_strategy,factor,time_params_list,max_n_fund_list)"
   ]
  },
  {
   "cell_type": "code",
   "execution_count": null,
   "metadata": {},
   "outputs": [],
   "source": [
    "inter_strategy = 'maxsharpe1'\n",
    "factor_list = ['mrar_zero','mrar_rf','mrar_c','mrar_b']\n",
    "time_params_list   = [ 20,60,120,240,500,750 ]\n",
    "max_n_fund_list    = [ 1,2,3,4,5 ]\n",
    "\n",
    "\n",
    "for k in range(len(factor_list)):\n",
    "    factor = factor_list[k]\n",
    "\n",
    "    for i in range(len(time_params_list)):\n",
    "\n",
    "        for j in range(len(max_n_fund_list)):\n",
    "            time_param = time_params_list[i]\n",
    "            max_n_fund = max_n_fund_list[j]\n",
    "            file_name = 'inter_{}_intra_{}'.format(inter_strategy,factor )\n",
    "            strategy_name = file_name+'_{}_{}'.format(time_param,max_n_fund )\n",
    "            #print('strategy name :{}'.format(strategy_name))\n",
    "            df_result = pd.read_csv('F:/DataScienceTeam/基金篩選-量化部門/result/{}/result_{}.csv'.format(file_name,strategy_name))\n",
    "            #print(df_result[strategy_name][0])\n",
    "            if df_result[strategy_name][0] >=8.5:\n",
    "                print('out_perform_strategy : {}'.format(strategy_name))\n",
    "                print('total_return : {}'.format(df_result[strategy_name][0]))"
   ]
  },
  {
   "cell_type": "code",
   "execution_count": null,
   "metadata": {
    "scrolled": true
   },
   "outputs": [],
   "source": [
    "inter_strategy = 'maxsharpe1'\n",
    "factor_list = ['sharpe_zero','sharpe_rf','sharpe_c','sharpe_b']\n",
    "time_params_list   = [ 20,60,120,240,500,750 ]\n",
    "max_n_fund_list    = [ 1,2,3,4,5 ]\n",
    "for k in range(len(factor_list)):\n",
    "    factor = factor_list[k]\n",
    "    return_mdd_3dplot(inter_strategy,factor,time_params_list,max_n_fund_list)"
   ]
  },
  {
   "cell_type": "markdown",
   "metadata": {},
   "source": [
    "# 三、組間極大化夏普上限1 - 組內d日sharpe最大n檔"
   ]
  },
  {
   "cell_type": "code",
   "execution_count": null,
   "metadata": {
    "scrolled": false
   },
   "outputs": [],
   "source": [
    "inter_strategy = 'maxsharpe1'\n",
    "factor_list = ['sharpe_zero','sharpe_rf','sharpe_c','sharpe_b']\n",
    "time_params_list   = [ 20,60,120,240,500,750 ]\n",
    "max_n_fund_list    = [ 1,2,3,4,5 ]\n",
    "\n",
    "\n",
    "for k in range(len(factor_list)):\n",
    "    factor = factor_list[k]\n",
    "\n",
    "    for i in range(len(time_params_list)):\n",
    "\n",
    "        for j in range(len(max_n_fund_list)):\n",
    "            time_param = time_params_list[i]\n",
    "            max_n_fund = max_n_fund_list[j]\n",
    "            file_name = 'inter_{}_intra_{}'.format(inter_strategy,factor )\n",
    "            strategy_name = file_name+'_{}_{}'.format(time_param,max_n_fund )\n",
    "            #print('strategy name :{}'.format(strategy_name))\n",
    "            df_result = pd.read_csv('F:/DataScienceTeam/基金篩選-量化部門/result/{}/result_{}.csv'.format(file_name,strategy_name))\n",
    "            #print(df_result[strategy_name][0])\n",
    "            if df_result[strategy_name][0] >=8.5:\n",
    "                print('out_perform_strategy : {}'.format(strategy_name))\n",
    "                print('total_return : {}'.format(df_result[strategy_name][0]))"
   ]
  },
  {
   "cell_type": "markdown",
   "metadata": {},
   "source": [
    "# 四、組間極大化夏普上限1 - 組內d日hitrate最大n檔"
   ]
  },
  {
   "cell_type": "code",
   "execution_count": null,
   "metadata": {
    "scrolled": true
   },
   "outputs": [],
   "source": [
    "inter_strategy = 'maxsharpe1'\n",
    "factor_list = ['hitrate_zero','hitrate_rf','hitrate_c','hitrate_b']\n",
    "time_params_list   = [ 20,60,120,240,500,750 ]\n",
    "max_n_fund_list    = [ 1,2,3,4,5 ]\n",
    "for k in range(len(factor_list)):\n",
    "    factor = factor_list[k]\n",
    "    return_mdd_3dplot(inter_strategy,factor,time_params_list,max_n_fund_list)"
   ]
  },
  {
   "cell_type": "code",
   "execution_count": null,
   "metadata": {},
   "outputs": [],
   "source": [
    "inter_strategy = 'maxsharpe1'\n",
    "factor_list = ['hitrate_zero','hitrate_rf','hitrate_c','hitrate_b']\n",
    "time_params_list   = [ 20,60,120,240,500,750 ]\n",
    "max_n_fund_list    = [ 1,2,3,4,5 ]\n",
    "\n",
    "\n",
    "for k in range(len(factor_list)):\n",
    "    factor = factor_list[k]\n",
    "\n",
    "    for i in range(len(time_params_list)):\n",
    "\n",
    "        for j in range(len(max_n_fund_list)):\n",
    "            time_param = time_params_list[i]\n",
    "            max_n_fund = max_n_fund_list[j]\n",
    "            file_name = 'inter_{}_intra_{}'.format(inter_strategy,factor )\n",
    "            strategy_name = file_name+'_{}_{}'.format(time_param,max_n_fund )\n",
    "            #print('strategy name :{}'.format(strategy_name))\n",
    "            df_result = pd.read_csv('F:/DataScienceTeam/基金篩選-量化部門/result/{}/result_{}.csv'.format(file_name,strategy_name))\n",
    "            #print(df_result[strategy_name][0])\n",
    "            if df_result[strategy_name][0] >=8.5:\n",
    "                print('out_perform_strategy : {}'.format(strategy_name))\n",
    "                print('total_return : {}'.format(df_result[strategy_name][0]))"
   ]
  },
  {
   "cell_type": "markdown",
   "metadata": {},
   "source": [
    "# 整體績效檢視"
   ]
  },
  {
   "cell_type": "code",
   "execution_count": null,
   "metadata": {},
   "outputs": [],
   "source": [
    "inter_strategy = 'maxsharpe1'\n",
    "factor_list = ['aer_zero','aer_rf','aer_c','aer_b']+['mrar_zero','mrar_rf','mrar_c','mrar_b']+['sharpe_zero','sharpe_rf','sharpe_c','sharpe_b']+['hitrate_zero','hitrate_rf','hitrate_c','hitrate_b']\n",
    "time_params_list   = [ 20,60,120,240,500,750 ]\n",
    "max_n_fund_list    = [ 1,2,3,4,5 ]\n",
    "\n",
    "df_total_performance = pd.DataFrame()\n",
    "for k in range(len(factor_list)):\n",
    "    factor = factor_list[k]\n",
    "\n",
    "    for i in range(len(time_params_list)):\n",
    "\n",
    "        for j in range(len(max_n_fund_list)):\n",
    "            time_param = time_params_list[i]\n",
    "            max_n_fund = max_n_fund_list[j]\n",
    "            file_name = 'inter_{}_intra_{}'.format(inter_strategy,factor )\n",
    "            strategy_name = file_name+'_{}_{}'.format(time_param,max_n_fund )\n",
    "            #print('strategy name :{}'.format(strategy_name))\n",
    "            df_result = pd.read_csv('F:/DataScienceTeam/基金篩選-量化部門/result/{}/result_{}.csv'.format(file_name,strategy_name))\n",
    "            #print(df_result[strategy_name][0])\n",
    "            df_total_performance[strategy_name] = df_result[strategy_name] \n",
    "df_total_performance.index = df_result[df_result.columns[0]]\n",
    "df_total_performance.index.name = 'performance_matrix'"
   ]
  },
  {
   "cell_type": "code",
   "execution_count": null,
   "metadata": {},
   "outputs": [],
   "source": [
    " df_total_performance.T.sort_values('Total Return',ascending=False).head(20).to_csv('top20_totalreturn.csv')"
   ]
  },
  {
   "cell_type": "code",
   "execution_count": null,
   "metadata": {},
   "outputs": [],
   "source": [
    " df_total_performance.T.sort_values('mdd',ascending=True).head(20).to_csv('top20_mdd.csv')"
   ]
  },
  {
   "cell_type": "code",
   "execution_count": null,
   "metadata": {},
   "outputs": [],
   "source": [
    " df_total_performance.T.sort_values('mdd',ascending=True).head(20)"
   ]
  },
  {
   "cell_type": "markdown",
   "metadata": {},
   "source": [
    "# 以前的CODE~~~~"
   ]
  },
  {
   "cell_type": "markdown",
   "metadata": {},
   "source": [
    "# 一、極大化夏普上限1 - 組內d日MRAR最大n檔"
   ]
  },
  {
   "cell_type": "code",
   "execution_count": null,
   "metadata": {},
   "outputs": [],
   "source": []
  },
  {
   "cell_type": "code",
   "execution_count": null,
   "metadata": {},
   "outputs": [],
   "source": [
    "inter_strategy = 'maxsharpe1'\n",
    "factor = 'mrar'\n",
    "time_params_list   = [ 20,60,120,240,500,750 ]\n",
    "max_n_fund_list    = [ 1,2,3,4,5 ]"
   ]
  },
  {
   "cell_type": "code",
   "execution_count": null,
   "metadata": {
    "scrolled": false
   },
   "outputs": [],
   "source": [
    "return_mdd_3dplot(inter_strategy,factor,time_params_list,max_n_fund_list)"
   ]
  },
  {
   "cell_type": "markdown",
   "metadata": {},
   "source": [
    "# 二、極大化夏普上限1 - 組內d日MRAR最大n檔，債券換成指數"
   ]
  },
  {
   "cell_type": "code",
   "execution_count": null,
   "metadata": {},
   "outputs": [],
   "source": [
    "inter_strategy = 'maxsharpe1'\n",
    "factor = 'bondtoindex_mrar'\n",
    "time_params_list   = [ 20,60,120,240,500,750 ]\n",
    "max_n_fund_list    = [ 1,2,3,4,5,6,7,8,9,10 ]"
   ]
  },
  {
   "cell_type": "code",
   "execution_count": null,
   "metadata": {
    "scrolled": true
   },
   "outputs": [],
   "source": [
    "return_mdd_3dplot(inter_strategy,factor,time_params_list,max_n_fund_list)"
   ]
  },
  {
   "cell_type": "markdown",
   "metadata": {},
   "source": [
    "# 三、MRAR最大一檔 - 指數作為benchmark，IG換成指數"
   ]
  },
  {
   "cell_type": "code",
   "execution_count": null,
   "metadata": {},
   "outputs": [],
   "source": [
    "inter_strategy = 'maxsharpe1'\n",
    "factor = 'IGtoindex_mrar'\n",
    "time_params_list   = [ 20,60,120,240,500,750 ]\n",
    "max_n_fund_list    = [ 1,2,3,4,5,6,7,8,9,10 ]"
   ]
  },
  {
   "cell_type": "code",
   "execution_count": null,
   "metadata": {},
   "outputs": [],
   "source": [
    "return_mdd_3dplot(inter_strategy,factor,time_params_list,max_n_fund_list)"
   ]
  },
  {
   "cell_type": "markdown",
   "metadata": {},
   "source": [
    "# 四、極大化夏普上限1 - 組內d日MRAR最大n檔，公債換成指數"
   ]
  },
  {
   "cell_type": "code",
   "execution_count": null,
   "metadata": {},
   "outputs": [],
   "source": [
    "inter_strategy = 'maxsharpe1'\n",
    "factor = 'TBtoindex_mrar'\n",
    "time_params_list   = [ 20,60,120,240,500,750 ]\n",
    "max_n_fund_list    = [ 1,2,3,4,5,6,7,8,9,10 ]"
   ]
  },
  {
   "cell_type": "code",
   "execution_count": null,
   "metadata": {
    "scrolled": false
   },
   "outputs": [],
   "source": [
    "return_mdd_3dplot(inter_strategy,factor,time_params_list,max_n_fund_list)"
   ]
  },
  {
   "cell_type": "markdown",
   "metadata": {},
   "source": [
    "# 五、夏普比率篩選"
   ]
  },
  {
   "cell_type": "code",
   "execution_count": null,
   "metadata": {},
   "outputs": [],
   "source": [
    "inter_strategy = 'maxsharpe1'\n",
    "factor = 'sharpe'\n",
    "time_params_list   = [ 20,60,120,240,500,750 ]\n",
    "max_n_fund_list    = [ 1,2,3,4,5 ]"
   ]
  },
  {
   "cell_type": "code",
   "execution_count": null,
   "metadata": {
    "scrolled": false
   },
   "outputs": [],
   "source": [
    "return_mdd_3dplot(inter_strategy,factor,time_params_list,max_n_fund_list)"
   ]
  },
  {
   "cell_type": "markdown",
   "metadata": {},
   "source": [
    "# 六、mom"
   ]
  },
  {
   "cell_type": "code",
   "execution_count": null,
   "metadata": {},
   "outputs": [],
   "source": [
    "inter_strategy = 'maxsharpe1'\n",
    "factor = 'momentum'\n",
    "time_params_list   = [ 20,60,120,240,500,750 ]\n",
    "max_n_fund_list    = [ 1,2,3,4,5 ]"
   ]
  },
  {
   "cell_type": "code",
   "execution_count": null,
   "metadata": {},
   "outputs": [],
   "source": [
    "return_mdd_3dplot(inter_strategy,factor,time_params_list,max_n_fund_list)"
   ]
  }
 ],
 "metadata": {
  "kernelspec": {
   "display_name": "Python 3",
   "language": "python",
   "name": "python3"
  },
  "language_info": {
   "codemirror_mode": {
    "name": "ipython",
    "version": 3
   },
   "file_extension": ".py",
   "mimetype": "text/x-python",
   "name": "python",
   "nbconvert_exporter": "python",
   "pygments_lexer": "ipython3",
   "version": "3.8.3"
  },
  "toc": {
   "base_numbering": 1,
   "nav_menu": {},
   "number_sections": true,
   "sideBar": true,
   "skip_h1_title": false,
   "title_cell": "Table of Contents",
   "title_sidebar": "Contents",
   "toc_cell": false,
   "toc_position": {
    "height": "calc(100% - 180px)",
    "left": "10px",
    "top": "150px",
    "width": "384px"
   },
   "toc_section_display": true,
   "toc_window_display": true
  }
 },
 "nbformat": 4,
 "nbformat_minor": 4
}
